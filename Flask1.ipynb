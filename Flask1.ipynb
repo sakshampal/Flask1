{
 "cells": [
  {
   "cell_type": "code",
   "execution_count": null,
   "id": "1b5b3d5e-f6a3-4747-8978-862b8b018dca",
   "metadata": {},
   "outputs": [],
   "source": [
    "Q1. What is Flask Framework? What are the advantages of Flask Framework?"
   ]
  },
  {
   "cell_type": "code",
   "execution_count": null,
   "id": "002e1772-e1c3-48da-b726-0f127793fddb",
   "metadata": {},
   "outputs": [],
   "source": [
    "Ans: Flask is a micro web framework for Python. It is designed to be lightweight and simple, providing the essential tools and features for\n",
    "building web applications, but allowing developers the flexibility to choose and integrate additional components as needed. Flask is often\n",
    "described as a \"micro\" framework because it doesn't come with all the bells and whistles of larger frameworks like Django. Instead, it\n",
    "encourages developers to make choices about libraries and components, which can be added as extensions or plugins.\n",
    "\n",
    "Advantages of using the Flask framework:\n",
    "\n",
    "Simplicity: Flask is known for its simplicity and minimalism. It provides just the basic tools needed to get a web application up and running,\n",
    "making it easy to understand and learn for both beginners and experienced developers.\n",
    "\n",
    "Flexibility: Flask gives developers the freedom to choose and integrate various components such as databases, templating engines, and \n",
    "authentication systems according to their project's specific requirements. This flexibility allows you to build custom solutions tailored \n",
    "to your needs.\n",
    "\n",
    "Lightweight: Since Flask is a micro framework, it has a small codebase and a minimal set of dependencies. This results in faster development\n",
    "times and better performance, especially for small to medium-sized projects.\n",
    "\n",
    "Extensibility: Flask has a rich ecosystem of extensions and plugins available, which can be easily integrated into your project. These extensions\n",
    "cover a wide range of functionalities, including authentication, form handling, database integration, and more.\n",
    "\n",
    "Large Community: Flask has a large and active community of developers, which means you can find plenty of documentation, tutorials, and support online. \n",
    "This community support can be invaluable when you encounter issues or need help with your Flask project.\n",
    "\n",
    "RESTful: Flask is well-suited for building RESTful APIs, making it a popular choice for creating web services and backend APIs that serve as the\n",
    "foundation for web and mobile applications."
   ]
  },
  {
   "cell_type": "code",
   "execution_count": null,
   "id": "8ad201ba-5208-45bb-a7eb-f8f1d0b9b587",
   "metadata": {},
   "outputs": [],
   "source": [
    "Q2. Create a simple Flask application to display ‘Hello World!!’. Attach the screenshot of the output in\n",
    "Jupyter Notebook."
   ]
  },
  {
   "cell_type": "code",
   "execution_count": null,
   "id": "b80a4b5a-58dd-4b9d-845b-88890ccc374e",
   "metadata": {},
   "outputs": [],
   "source": [
    "Ans: from flask import Flask\n",
    "from flask import request\n",
    "\n",
    "app = Flask(__name__)\n",
    "\n",
    "@app.route(\"/\")\n",
    "def hello_world():\n",
    "    return \"<h1>Hello, World!</h1>\"\n",
    "\n",
    "Output : Attached Screenshot"
   ]
  },
  {
   "cell_type": "code",
   "execution_count": null,
   "id": "a098abe7-4c54-4848-b4c5-5683ee6756bc",
   "metadata": {},
   "outputs": [],
   "source": [
    "Q3. What is App routing in Flask? Why do we use app routes?"
   ]
  },
  {
   "cell_type": "code",
   "execution_count": null,
   "id": "d67ab19e-c7e9-43ee-b72d-d4815b9b5ce1",
   "metadata": {},
   "outputs": [],
   "source": [
    "Ans: In Flask, app routing refers to the process of defining different URL paths (routes) for your web application and specifying what should\n",
    "happen when a user visits those paths. Think of it as creating a map for your website that tells Flask how to respond when someone clicks on\n",
    "different links or types in specific URLs.\n",
    "\n",
    "why we use app routes:\n",
    "    \n",
    "    When you visit a website, you typically see different pages or perform various actions by clicking on links or typing in URLs.\n",
    "    App routes allow you to connect these URLs to specific Python functions in your Flask application.\n",
    "    \n",
    "    For example, you might want to show a homepage when someone visits the root URL (\"/\"), display a login page when they go to \"/login,\" or\n",
    "    show a list of products when they visit \"/products.\" App routes let you define what should happen in your Python code when these URLs\n",
    "    are accessed.\n",
    "    \n",
    "    App routes help organize your code neatly. You can define different functions for handling various parts of your website, making it easier \n",
    "    to manage and maintain.\n",
    "\n"
   ]
  },
  {
   "cell_type": "code",
   "execution_count": null,
   "id": "9c21ec97-86bf-4cc4-b76d-828d9292adab",
   "metadata": {},
   "outputs": [],
   "source": [
    "Q4. Create a “/welcome” route to display the welcome message “Welcome to ABC Corporation” and a “/”\n",
    "route to show the following details:\n",
    "Company Name: ABC Corporation\n",
    "Location: India\n",
    "Contact Detail: 999-999-9999"
   ]
  },
  {
   "cell_type": "code",
   "execution_count": null,
   "id": "2bda3d12-e364-4182-aba8-ca3030648398",
   "metadata": {},
   "outputs": [],
   "source": [
    "from flask import Flask\n",
    "from flask import request\n",
    "\n",
    "app = Flask(__name__)\n",
    "\n",
    "@app.route(\"/welcome\")\n",
    "def welcome_message():\n",
    "    return \"Welcome to ABC Corporation\"\n",
    "\n",
    "@app.route(\"/\")\n",
    "def company_details():\n",
    "    return '''\n",
    "    <h1>Company Name: ABC Corporation</h1>\n",
    "    <p>Location: India</p>\n",
    "    <p>Contact Detail: 999-999-9999</p>\n",
    "    '''\n",
    "\n",
    "if __name__==\"__main__\":\n",
    "    app.run(host=\"0.0.0.0\")\n",
    "\n",
    "    \n",
    "    Output : https://black-psychiatrist-fvuug.pwskills.app:5000/\n",
    "           : https://black-psychiatrist-fvuug.pwskills.app:5000/welcome"
   ]
  },
  {
   "cell_type": "code",
   "execution_count": null,
   "id": "88f0a7b1-9557-4a07-9c5b-e67a440c5244",
   "metadata": {},
   "outputs": [],
   "source": [
    "Q5. What function is used in Flask for URL Building? Write a Python code to demonstrate the working of the\n",
    "url_for() function."
   ]
  },
  {
   "cell_type": "code",
   "execution_count": null,
   "id": "eb06093d-ac09-48fb-a6bc-db801eca00c2",
   "metadata": {},
   "outputs": [],
   "source": [
    "Ans:In Flask, the url_for() function is used for URL building. It generates URLs for routes in your Flask application based on the name\n",
    "of the route function and any parameters that it might require. This makes it easier to create links between different parts of your\n",
    "application without hardcoding the URLs.\n",
    "    \n",
    "    \n",
    "    \n",
    "    from flask import Flask, url_for\n",
    "\n",
    "app = Flask(__name__)\n",
    "\n",
    "# Define some routes with route names\n",
    "@app.route('/')\n",
    "def home():\n",
    "    return 'Home Page'\n",
    "\n",
    "@app.route('/about')\n",
    "def about():\n",
    "    return 'About Page'\n",
    "\n",
    "@app.route('/contact/<int:contact_id>')\n",
    "def contact(contact_id):\n",
    "    return f'Contact Page for ID {contact_id}'\n",
    "\n",
    "# Create a route that uses url_for to generate links\n",
    "@app.route('/links')\n",
    "def links():\n",
    "    # Use url_for to generate URLs for the defined routes\n",
    "    home_url = url_for('home')\n",
    "    about_url = url_for('about')\n",
    "    contact_url = url_for('contact', contact_id=1)  # Provide the parameter value\n",
    "    \n",
    "    # Create HTML links using the generated URLs\n",
    "    html = f'<a href=\"{home_url}\">Home</a><br>'\n",
    "    html += f'<a href=\"{about_url}\">About</a><br>'\n",
    "    html += f'<a href=\"{contact_url}\">Contact</a><br>'\n",
    "    \n",
    "    return html\n",
    "\n",
    "if __name__ == '__main__':\n",
    "    app.run(debug=True)\n"
   ]
  }
 ],
 "metadata": {
  "kernelspec": {
   "display_name": "Python 3 (ipykernel)",
   "language": "python",
   "name": "python3"
  },
  "language_info": {
   "codemirror_mode": {
    "name": "ipython",
    "version": 3
   },
   "file_extension": ".py",
   "mimetype": "text/x-python",
   "name": "python",
   "nbconvert_exporter": "python",
   "pygments_lexer": "ipython3",
   "version": "3.10.8"
  }
 },
 "nbformat": 4,
 "nbformat_minor": 5
}
